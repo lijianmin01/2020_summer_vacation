{
 "cells": [
  {
   "cell_type": "markdown",
   "metadata": {},
   "source": [
    "## 推导式练习题\n",
    "* 用列表推导式生成[0, 3, 6, 9, 12, 15]\n",
    "* 过滤掉长度小于3的字符串列表，并将剩下的转换成大写字母\n",
    "lst = [\"1\",\"2\",\"3\",\"4\",\"8\",\"weeff\",\"bdskjk\",\"nsdjj\"]\n",
    "\n",
    "* 请根据所给x，用列表推导式生成[[1517991992.94, 100],\n",
    "[1517992000.94, 200],\n",
    "[1517992014.94, 300],\n",
    "[1517992744.94, 350],\n",
    "[1517992800.94, 280]]\n"
   ]
  },
  {
   "cell_type": "code",
   "execution_count": 1,
   "metadata": {
    "ExecuteTime": {
     "end_time": "2020-08-15T08:47:32.248692Z",
     "start_time": "2020-08-15T08:47:32.236177Z"
    }
   },
   "outputs": [
    {
     "data": {
      "text/plain": [
       "[0, 3, 6, 9, 12, 15]"
      ]
     },
     "execution_count": 1,
     "metadata": {},
     "output_type": "execute_result"
    }
   ],
   "source": [
    "[i*3 for i in range(0,6)]"
   ]
  },
  {
   "cell_type": "code",
   "execution_count": 7,
   "metadata": {
    "ExecuteTime": {
     "end_time": "2020-08-15T08:50:52.458868Z",
     "start_time": "2020-08-15T08:50:52.448844Z"
    }
   },
   "outputs": [
    {
     "name": "stdout",
     "output_type": "stream",
     "text": [
      "['Weeff', 'Bdskjk', 'Nsdjj']\n"
     ]
    },
    {
     "data": {
      "text/plain": [
       "['weeff', 'bdskjk', 'nsdjj']"
      ]
     },
     "execution_count": 7,
     "metadata": {},
     "output_type": "execute_result"
    }
   ],
   "source": [
    "lr = [\"1\",\"2\",\"3\",\"4\",\"8\",\"weeff\",\"bdskjk\",\"nsdjj\"]\n",
    "l2 = [word[0].upper()+word[1:] for word in lr if len(word)>=3]\n",
    "print(l2)\n",
    "l3 = [word[0].lower()+word[1:] for word in lr if len(word)>=3]\n",
    "l3"
   ]
  },
  {
   "cell_type": "markdown",
   "metadata": {},
   "source": [
    "## 匿名函数\n",
    "\n",
    "* 请用匿名函数改造下面的代码："
   ]
  },
  {
   "cell_type": "code",
   "execution_count": 8,
   "metadata": {
    "ExecuteTime": {
     "end_time": "2020-08-15T08:56:32.890601Z",
     "start_time": "2020-08-15T08:56:32.884981Z"
    }
   },
   "outputs": [
    {
     "data": {
      "text/plain": [
       "4"
      ]
     },
     "execution_count": 8,
     "metadata": {},
     "output_type": "execute_result"
    }
   ],
   "source": [
    "def is_odd(n):\n",
    "    return n * 2\n",
    "\n",
    "f = lambda x:x*2\n",
    "f(2)\n",
    "\n"
   ]
  },
  {
   "cell_type": "markdown",
   "metadata": {},
   "source": [
    "## 错误和异常\n",
    "### 错误\n",
    "* 错误可以分为两种，语法上的和逻辑上的，当检测到一个错误时，Python解释器会指出当前流已经无法继续执行下去。这个时候就出现了异常(Exception)。\n",
    "### 异常\n",
    "* 对异常的最好描述是：它是因为程序出现了错误而在正常控制流之外采取的行为，这个行为分为两个阶段。\n",
    "\n"
   ]
  },
  {
   "cell_type": "markdown",
   "metadata": {},
   "source": [
    "### Python中几种常见的异常\n",
    "* NameError : 尝试访问一个未知的变量\n",
    "* ZeroDivisionError:除数为零\n",
    "* SyntaxError：解释器语法错误\n",
    "* IndexError：请求的索引超出序列范围\n",
    "* KeyError：请求一个不存在的字典键\n",
    "* FileNotFoundError：输入/输出错误\n",
    "* AttributeError：尝试访问未知的对象属性\n"
   ]
  },
  {
   "cell_type": "markdown",
   "metadata": {},
   "source": [
    "## Python正则表达式"
   ]
  },
  {
   "cell_type": "code",
   "execution_count": 11,
   "metadata": {
    "ExecuteTime": {
     "end_time": "2020-08-15T09:12:49.321377Z",
     "start_time": "2020-08-15T09:12:49.311402Z"
    }
   },
   "outputs": [
    {
     "name": "stdout",
     "output_type": "stream",
     "text": [
      "<re.Match object; span=(0, 8), match='traveler'>\n"
     ]
    },
    {
     "data": {
      "text/plain": [
       "'traveler'"
      ]
     },
     "execution_count": 11,
     "metadata": {},
     "output_type": "execute_result"
    }
   ],
   "source": [
    "import re\n",
    "\n",
    "result = re.match(r'^travell?er$', 'traveler')\n",
    "print(result)\n",
    "result.group()"
   ]
  },
  {
   "cell_type": "code",
   "execution_count": 12,
   "metadata": {
    "ExecuteTime": {
     "end_time": "2020-08-15T09:13:53.813471Z",
     "start_time": "2020-08-15T09:13:53.801533Z"
    }
   },
   "outputs": [
    {
     "name": "stdout",
     "output_type": "stream",
     "text": [
      "2017\n",
      "04\n",
      "07\n",
      "2017-04-07\n",
      "2017-04-07\n"
     ]
    }
   ],
   "source": [
    "# 匹配年月日\n",
    "astring = '2017-04-07'\n",
    "m = re.search(r'(\\d{4})-(\\d{2})-(\\d{2})', astring)\n",
    "print(m.group(1))\n",
    "print(m.group(2))\n",
    "print(m.group(3))\n",
    "print(m.group(0))\n",
    "print(m.group())"
   ]
  },
  {
   "cell_type": "code",
   "execution_count": 13,
   "metadata": {
    "ExecuteTime": {
     "end_time": "2020-08-15T09:14:29.014707Z",
     "start_time": "2020-08-15T09:14:29.003741Z"
    }
   },
   "outputs": [
    {
     "name": "stdout",
     "output_type": "stream",
     "text": [
      "2017-04-07\n",
      "2017-04-07\n",
      "2017-04-07\n",
      "2017-04\n",
      "2017\n",
      "04\n",
      "07\n"
     ]
    }
   ],
   "source": [
    "m = re.search(r'(((\\d{4})-(\\d{2}))-(\\d{2}))', '2017-04-07')\n",
    "print(m.group())\n",
    "print(m.group(0))\n",
    "print(m.group(1))\n",
    "print(m.group(2))\n",
    "print(m.group(3))\n",
    "print(m.group(4))\n",
    "print(m.group(5))"
   ]
  },
  {
   "cell_type": "code",
   "execution_count": 18,
   "metadata": {
    "ExecuteTime": {
     "end_time": "2020-08-15T09:19:40.503842Z",
     "start_time": "2020-08-15T09:19:40.481896Z"
    }
   },
   "outputs": [
    {
     "ename": "ValueError",
     "evalue": "I/O operation on closed file.",
     "output_type": "error",
     "traceback": [
      "\u001b[1;31m---------------------------------------------------------------------------\u001b[0m",
      "\u001b[1;31mValueError\u001b[0m                                Traceback (most recent call last)",
      "\u001b[1;32m<ipython-input-18-82334dbf4609>\u001b[0m in \u001b[0;36m<module>\u001b[1;34m\u001b[0m\n\u001b[0;32m     12\u001b[0m     \u001b[0mf_csv\u001b[0m\u001b[1;33m.\u001b[0m\u001b[0mwriterows\u001b[0m\u001b[1;33m(\u001b[0m\u001b[0mrows\u001b[0m\u001b[1;33m)\u001b[0m\u001b[1;33m\u001b[0m\u001b[1;33m\u001b[0m\u001b[0m\n\u001b[0;32m     13\u001b[0m \u001b[1;33m\u001b[0m\u001b[0m\n\u001b[1;32m---> 14\u001b[1;33m \u001b[0mf\u001b[0m\u001b[1;33m.\u001b[0m\u001b[0mread\u001b[0m\u001b[1;33m(\u001b[0m\u001b[1;33m)\u001b[0m\u001b[1;33m\u001b[0m\u001b[1;33m\u001b[0m\u001b[0m\n\u001b[0m",
      "\u001b[1;31mValueError\u001b[0m: I/O operation on closed file."
     ]
    }
   ],
   "source": [
    "import csv\n",
    "headers = ['Symbol','Price','Date','Time','Change','Volume']\n",
    "rows = [\n",
    "    ('AA', 39.48, '6/11/2007', '9:36am', -0.18, 181800),\n",
    "    ('AIG', 71.38, '6/11/2007', '9:36am', -0.15, 195500),\n",
    "    ('AXP', 62.58, '6/11/2007', '9:36am', -0.46, 935000),\n",
    "]\n",
    "\n",
    "with open('stocks.csv', 'w') as f:\n",
    "    f_csv = csv.writer(f)\n",
    "    f_csv.writerow(headers)\n",
    "    f_csv.writerows(rows)\n"
   ]
  },
  {
   "cell_type": "code",
   "execution_count": null,
   "metadata": {},
   "outputs": [],
   "source": []
  },
  {
   "cell_type": "code",
   "execution_count": null,
   "metadata": {},
   "outputs": [],
   "source": []
  }
 ],
 "metadata": {
  "kernelspec": {
   "display_name": "Python 3",
   "language": "python",
   "name": "python3"
  },
  "language_info": {
   "codemirror_mode": {
    "name": "ipython",
    "version": 3
   },
   "file_extension": ".py",
   "mimetype": "text/x-python",
   "name": "python",
   "nbconvert_exporter": "python",
   "pygments_lexer": "ipython3",
   "version": "3.7.4"
  },
  "toc": {
   "base_numbering": 1,
   "nav_menu": {},
   "number_sections": true,
   "sideBar": true,
   "skip_h1_title": false,
   "title_cell": "Table of Contents",
   "title_sidebar": "Contents",
   "toc_cell": false,
   "toc_position": {},
   "toc_section_display": true,
   "toc_window_display": false
  }
 },
 "nbformat": 4,
 "nbformat_minor": 2
}
