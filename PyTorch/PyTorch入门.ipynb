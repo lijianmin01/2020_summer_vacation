{
 "cells": [
  {
   "cell_type": "markdown",
   "metadata": {},
   "source": [
    "## PyTorch 是什么？\n",
    "* 它是一个机遇Python的科学计算包，目标用户有两类\n",
    "* 为了使用GPU来代替numpy\n",
    "* 一个深度学习研究平台；提供最大的灵活性和速度"
   ]
  },
  {
   "cell_type": "code",
   "execution_count": 2,
   "metadata": {
    "ExecuteTime": {
     "end_time": "2020-06-22T14:29:20.715765Z",
     "start_time": "2020-06-22T14:29:11.143330Z"
    }
   },
   "outputs": [],
   "source": [
    "\"\"\"\n",
    "张量（Tensors）\n",
    "    张量类似于numpy和ndarrays,不同之处在于张量可以使用GPU\n",
    "    来加快计算\n",
    "\"\"\"\n",
    "\n",
    "from __future__ import print_function\n",
    "import torch"
   ]
  },
  {
   "cell_type": "code",
   "execution_count": 3,
   "metadata": {
    "ExecuteTime": {
     "end_time": "2020-06-22T14:29:21.120038Z",
     "start_time": "2020-06-22T14:29:20.725727Z"
    }
   },
   "outputs": [
    {
     "data": {
      "text/plain": [
       "tensor([[8.7245e-39, 9.2755e-39, 8.9082e-39],\n",
       "        [9.9184e-39, 8.4490e-39, 9.6429e-39],\n",
       "        [1.0653e-38, 1.0469e-38, 4.2246e-39],\n",
       "        [1.0378e-38, 9.6429e-39, 9.2755e-39],\n",
       "        [9.7346e-39, 1.0745e-38, 1.0102e-38]])"
      ]
     },
     "execution_count": 3,
     "metadata": {},
     "output_type": "execute_result"
    }
   ],
   "source": [
    "# 构建一个初始化5*3 的矩阵\n",
    "x = torch.Tensor(5,3)\n",
    "x"
   ]
  },
  {
   "cell_type": "code",
   "execution_count": 4,
   "metadata": {
    "ExecuteTime": {
     "end_time": "2020-06-22T14:32:15.930902Z",
     "start_time": "2020-06-22T14:32:15.870956Z"
    }
   },
   "outputs": [
    {
     "data": {
      "text/plain": [
       "tensor([[0, 0, 0],\n",
       "        [0, 0, 0],\n",
       "        [0, 0, 0],\n",
       "        [0, 0, 0],\n",
       "        [0, 0, 0]])"
      ]
     },
     "execution_count": 4,
     "metadata": {},
     "output_type": "execute_result"
    }
   ],
   "source": [
    "# 构建一个零矩阵，使用long的类型\n",
    "x = torch.zeros(5,3,dtype = torch.long)\n",
    "x\n"
   ]
  },
  {
   "cell_type": "code",
   "execution_count": 5,
   "metadata": {
    "ExecuteTime": {
     "end_time": "2020-06-22T14:33:13.667336Z",
     "start_time": "2020-06-22T14:33:13.520521Z"
    }
   },
   "outputs": [
    {
     "data": {
      "text/plain": [
       "tensor([5.3000, 3.0000])"
      ]
     },
     "execution_count": 5,
     "metadata": {},
     "output_type": "execute_result"
    }
   ],
   "source": [
    "# 从数据中心直接构建一个张量（tensor）\n",
    "x = torch.tensor([5.3,3])\n",
    "x"
   ]
  },
  {
   "cell_type": "code",
   "execution_count": 9,
   "metadata": {
    "ExecuteTime": {
     "end_time": "2020-06-22T14:37:52.592638Z",
     "start_time": "2020-06-22T14:37:52.486893Z"
    }
   },
   "outputs": [
    {
     "name": "stdout",
     "output_type": "stream",
     "text": [
      "tensor([[1., 1., 1.],\n",
      "        [1., 1., 1.],\n",
      "        [1., 1., 1.],\n",
      "        [1., 1., 1.],\n",
      "        [1., 1., 1.]], dtype=torch.float64)\n",
      "tensor([[ 0.7503,  0.4383, -0.7689],\n",
      "        [-1.2677,  1.0847,  0.7349],\n",
      "        [ 0.6252, -0.7560, -0.3890],\n",
      "        [ 0.4024, -0.5974,  0.9545],\n",
      "        [ 2.1731, -0.2477, -0.5647]])\n"
     ]
    }
   ],
   "source": [
    "# 或者在已有张量（tensor）中构建一个张量（tensor）.\n",
    "# 这些方法将重用输入张量（tensor）的属性\n",
    "\n",
    "x = x.new_ones(5,3,dtype=torch.double)\n",
    "print(x)\n",
    "\n",
    "x = torch.randn_like(x,dtype=torch.float)# 覆盖类型\n",
    "print(x)"
   ]
  },
  {
   "cell_type": "code",
   "execution_count": 10,
   "metadata": {
    "ExecuteTime": {
     "end_time": "2020-06-22T14:38:46.063139Z",
     "start_time": "2020-06-22T14:38:46.054163Z"
    }
   },
   "outputs": [
    {
     "name": "stdout",
     "output_type": "stream",
     "text": [
      "torch.Size([5, 3])\n"
     ]
    }
   ],
   "source": [
    "# 获取张量（tensor）大小\n",
    "print(x.size())\n"
   ]
  },
  {
   "cell_type": "code",
   "execution_count": 13,
   "metadata": {
    "ExecuteTime": {
     "end_time": "2020-06-22T14:39:12.055158Z",
     "start_time": "2020-06-22T14:39:12.047062Z"
    }
   },
   "outputs": [
    {
     "data": {
      "text/plain": [
       "torch.Size([5, 3])"
      ]
     },
     "execution_count": 13,
     "metadata": {},
     "output_type": "execute_result"
    }
   ],
   "source": [
    "x.size()  # 实际上是一个元组，所以他支持元组的所有操作"
   ]
  },
  {
   "cell_type": "code",
   "execution_count": 14,
   "metadata": {
    "ExecuteTime": {
     "end_time": "2020-06-22T14:40:51.306987Z",
     "start_time": "2020-06-22T14:40:51.190007Z"
    }
   },
   "outputs": [
    {
     "name": "stdout",
     "output_type": "stream",
     "text": [
      "x=\n",
      "tensor([[ 0.7503,  0.4383, -0.7689],\n",
      "        [-1.2677,  1.0847,  0.7349],\n",
      "        [ 0.6252, -0.7560, -0.3890],\n",
      "        [ 0.4024, -0.5974,  0.9545],\n",
      "        [ 2.1731, -0.2477, -0.5647]])\n",
      "y=\n",
      "tensor([[0.1516, 0.9980, 0.0078],\n",
      "        [0.5385, 0.4169, 0.3607],\n",
      "        [0.7030, 0.7847, 0.9362],\n",
      "        [0.3322, 0.6552, 0.8517],\n",
      "        [0.1922, 0.6477, 0.3556]])\n",
      "tensor([[ 0.9020,  1.4363, -0.7611],\n",
      "        [-0.7292,  1.5016,  1.0955],\n",
      "        [ 1.3282,  0.0287,  0.5472],\n",
      "        [ 0.7346,  0.0578,  1.8061],\n",
      "        [ 2.3653,  0.4001, -0.2092]])\n"
     ]
    }
   ],
   "source": [
    "y = torch.rand(5,3)\n",
    "print(\"x=\")\n",
    "print(x)\n",
    "\n",
    "print(\"y=\")\n",
    "print(y)\n",
    "\n",
    "print(x+y)"
   ]
  },
  {
   "cell_type": "code",
   "execution_count": 15,
   "metadata": {
    "ExecuteTime": {
     "end_time": "2020-06-22T14:41:23.357046Z",
     "start_time": "2020-06-22T14:41:23.311224Z"
    }
   },
   "outputs": [
    {
     "name": "stdout",
     "output_type": "stream",
     "text": [
      "tensor([[ 0.9020,  1.4363, -0.7611],\n",
      "        [-0.7292,  1.5016,  1.0955],\n",
      "        [ 1.3282,  0.0287,  0.5472],\n",
      "        [ 0.7346,  0.0578,  1.8061],\n",
      "        [ 2.3653,  0.4001, -0.2092]])\n"
     ]
    }
   ],
   "source": [
    "print(torch.add(x,y))"
   ]
  },
  {
   "cell_type": "code",
   "execution_count": 16,
   "metadata": {
    "ExecuteTime": {
     "end_time": "2020-06-22T14:42:25.446844Z",
     "start_time": "2020-06-22T14:42:25.398969Z"
    }
   },
   "outputs": [
    {
     "name": "stdout",
     "output_type": "stream",
     "text": [
      "tensor([[ 0.9020,  1.4363, -0.7611],\n",
      "        [-0.7292,  1.5016,  1.0955],\n",
      "        [ 1.3282,  0.0287,  0.5472],\n",
      "        [ 0.7346,  0.0578,  1.8061],\n",
      "        [ 2.3653,  0.4001, -0.2092]])\n"
     ]
    }
   ],
   "source": [
    "result = torch.empty(5,3)\n",
    "torch.add(x,y,out=result)\n",
    "print(result)"
   ]
  },
  {
   "cell_type": "code",
   "execution_count": 17,
   "metadata": {
    "ExecuteTime": {
     "end_time": "2020-06-22T14:42:59.464094Z",
     "start_time": "2020-06-22T14:42:59.421949Z"
    }
   },
   "outputs": [
    {
     "name": "stdout",
     "output_type": "stream",
     "text": [
      "tensor([[ 0.9020,  1.4363, -0.7611],\n",
      "        [-0.7292,  1.5016,  1.0955],\n",
      "        [ 1.3282,  0.0287,  0.5472],\n",
      "        [ 0.7346,  0.0578,  1.8061],\n",
      "        [ 2.3653,  0.4001, -0.2092]])\n"
     ]
    }
   ],
   "source": [
    "# 把x加到y上\n",
    "y.add_(x)\n",
    "print(y)"
   ]
  },
  {
   "cell_type": "markdown",
   "metadata": {},
   "source": [
    "### 可以使用所有的numpy索引操作\n"
   ]
  },
  {
   "cell_type": "code",
   "execution_count": 19,
   "metadata": {
    "ExecuteTime": {
     "end_time": "2020-06-22T14:44:47.457889Z",
     "start_time": "2020-06-22T14:44:47.442924Z"
    }
   },
   "outputs": [
    {
     "name": "stdout",
     "output_type": "stream",
     "text": [
      "tensor([[ 0.7503,  0.4383, -0.7689],\n",
      "        [-1.2677,  1.0847,  0.7349],\n",
      "        [ 0.6252, -0.7560, -0.3890],\n",
      "        [ 0.4024, -0.5974,  0.9545],\n",
      "        [ 2.1731, -0.2477, -0.5647]])\n",
      "tensor([[ 0.7503,  0.4383, -0.7689]])\n"
     ]
    }
   ],
   "source": [
    "print(x)\n",
    "print(x[:1])"
   ]
  },
  {
   "cell_type": "code",
   "execution_count": 20,
   "metadata": {
    "ExecuteTime": {
     "end_time": "2020-06-22T14:45:00.834183Z",
     "start_time": "2020-06-22T14:45:00.821632Z"
    }
   },
   "outputs": [
    {
     "name": "stdout",
     "output_type": "stream",
     "text": [
      "tensor([ 0.4383,  1.0847, -0.7560, -0.5974, -0.2477])\n"
     ]
    }
   ],
   "source": [
    "print(x[:,1])"
   ]
  },
  {
   "cell_type": "code",
   "execution_count": 21,
   "metadata": {
    "ExecuteTime": {
     "end_time": "2020-06-22T14:46:15.187915Z",
     "start_time": "2020-06-22T14:46:15.127809Z"
    }
   },
   "outputs": [
    {
     "data": {
      "text/plain": [
       "tensor([[ 0.1481,  1.2866, -0.7092, -0.6955],\n",
       "        [ 0.3258,  0.5852, -1.2924, -1.1617],\n",
       "        [ 1.1531, -0.2233, -2.0505,  0.3810],\n",
       "        [ 0.8424,  1.6083,  0.2965, -0.3321]])"
      ]
     },
     "execution_count": 21,
     "metadata": {},
     "output_type": "execute_result"
    }
   ],
   "source": [
    "# 调整大小：如果要调整张量/重塑张量，可以使用torch.view\n",
    "\n",
    "x = torch.randn(4,4)\n",
    "x"
   ]
  },
  {
   "cell_type": "code",
   "execution_count": 22,
   "metadata": {
    "ExecuteTime": {
     "end_time": "2020-06-22T14:46:32.632666Z",
     "start_time": "2020-06-22T14:46:32.622692Z"
    }
   },
   "outputs": [
    {
     "data": {
      "text/plain": [
       "tensor([ 0.1481,  1.2866, -0.7092, -0.6955,  0.3258,  0.5852, -1.2924, -1.1617,\n",
       "         1.1531, -0.2233, -2.0505,  0.3810,  0.8424,  1.6083,  0.2965, -0.3321])"
      ]
     },
     "execution_count": 22,
     "metadata": {},
     "output_type": "execute_result"
    }
   ],
   "source": [
    "y = x.view(16)\n",
    "y"
   ]
  },
  {
   "cell_type": "code",
   "execution_count": 23,
   "metadata": {
    "ExecuteTime": {
     "end_time": "2020-06-22T14:47:15.119988Z",
     "start_time": "2020-06-22T14:47:15.109648Z"
    }
   },
   "outputs": [
    {
     "data": {
      "text/plain": [
       "tensor([[ 0.1481,  1.2866, -0.7092, -0.6955,  0.3258,  0.5852, -1.2924, -1.1617],\n",
       "        [ 1.1531, -0.2233, -2.0505,  0.3810,  0.8424,  1.6083,  0.2965, -0.3321]])"
      ]
     },
     "execution_count": 23,
     "metadata": {},
     "output_type": "execute_result"
    }
   ],
   "source": [
    "# -1的意思是没有指定维度\n",
    "z= x.view(-1,8)\n",
    "z"
   ]
  },
  {
   "cell_type": "code",
   "execution_count": 24,
   "metadata": {
    "ExecuteTime": {
     "end_time": "2020-06-22T14:48:02.409681Z",
     "start_time": "2020-06-22T14:48:02.391619Z"
    }
   },
   "outputs": [
    {
     "name": "stdout",
     "output_type": "stream",
     "text": [
      "torch.Size([4, 4]) torch.Size([16]) torch.Size([2, 8])\n"
     ]
    }
   ],
   "source": [
    "print(x.size(),y.size(),z.size())"
   ]
  },
  {
   "cell_type": "code",
   "execution_count": 25,
   "metadata": {
    "ExecuteTime": {
     "end_time": "2020-06-22T14:49:46.894497Z",
     "start_time": "2020-06-22T14:49:46.879555Z"
    }
   },
   "outputs": [
    {
     "name": "stdout",
     "output_type": "stream",
     "text": [
      "tensor([0.0379])\n",
      "0.0379331111907959\n"
     ]
    }
   ],
   "source": [
    "# 如果有一个单元张量，使用。item()的值作为Python数字\n",
    "x = torch.randn(1)\n",
    "print(x)\n",
    "print(x.item())"
   ]
  },
  {
   "cell_type": "markdown",
   "metadata": {},
   "source": [
    "###### 稍后阅读\n",
    "* https://pytorch.org/doc/stable/torch.html\n",
    "* 转置，索引，数学运算，线性代数，随机数"
   ]
  },
  {
   "cell_type": "code",
   "execution_count": null,
   "metadata": {},
   "outputs": [],
   "source": [
    "## p5"
   ]
  },
  {
   "cell_type": "code",
   "execution_count": null,
   "metadata": {},
   "outputs": [],
   "source": []
  },
  {
   "cell_type": "code",
   "execution_count": null,
   "metadata": {},
   "outputs": [],
   "source": []
  },
  {
   "cell_type": "code",
   "execution_count": null,
   "metadata": {},
   "outputs": [],
   "source": []
  },
  {
   "cell_type": "code",
   "execution_count": null,
   "metadata": {},
   "outputs": [],
   "source": []
  },
  {
   "cell_type": "code",
   "execution_count": null,
   "metadata": {},
   "outputs": [],
   "source": []
  },
  {
   "cell_type": "code",
   "execution_count": null,
   "metadata": {},
   "outputs": [],
   "source": []
  },
  {
   "cell_type": "code",
   "execution_count": null,
   "metadata": {},
   "outputs": [],
   "source": []
  },
  {
   "cell_type": "code",
   "execution_count": null,
   "metadata": {},
   "outputs": [],
   "source": []
  },
  {
   "cell_type": "code",
   "execution_count": null,
   "metadata": {},
   "outputs": [],
   "source": []
  },
  {
   "cell_type": "code",
   "execution_count": null,
   "metadata": {},
   "outputs": [],
   "source": []
  },
  {
   "cell_type": "code",
   "execution_count": null,
   "metadata": {},
   "outputs": [],
   "source": []
  },
  {
   "cell_type": "code",
   "execution_count": null,
   "metadata": {},
   "outputs": [],
   "source": []
  },
  {
   "cell_type": "code",
   "execution_count": null,
   "metadata": {},
   "outputs": [],
   "source": []
  },
  {
   "cell_type": "code",
   "execution_count": null,
   "metadata": {},
   "outputs": [],
   "source": []
  },
  {
   "cell_type": "code",
   "execution_count": null,
   "metadata": {},
   "outputs": [],
   "source": []
  },
  {
   "cell_type": "code",
   "execution_count": null,
   "metadata": {},
   "outputs": [],
   "source": []
  },
  {
   "cell_type": "code",
   "execution_count": null,
   "metadata": {},
   "outputs": [],
   "source": []
  },
  {
   "cell_type": "code",
   "execution_count": null,
   "metadata": {},
   "outputs": [],
   "source": []
  }
 ],
 "metadata": {
  "kernelspec": {
   "display_name": "Python 3",
   "language": "python",
   "name": "python3"
  },
  "language_info": {
   "codemirror_mode": {
    "name": "ipython",
    "version": 3
   },
   "file_extension": ".py",
   "mimetype": "text/x-python",
   "name": "python",
   "nbconvert_exporter": "python",
   "pygments_lexer": "ipython3",
   "version": "3.7.4"
  },
  "toc": {
   "base_numbering": 1,
   "nav_menu": {},
   "number_sections": true,
   "sideBar": true,
   "skip_h1_title": false,
   "title_cell": "Table of Contents",
   "title_sidebar": "Contents",
   "toc_cell": false,
   "toc_position": {},
   "toc_section_display": true,
   "toc_window_display": false
  }
 },
 "nbformat": 4,
 "nbformat_minor": 2
}
