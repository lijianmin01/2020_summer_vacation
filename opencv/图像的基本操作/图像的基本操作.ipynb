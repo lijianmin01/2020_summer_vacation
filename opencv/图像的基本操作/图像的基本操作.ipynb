{
 "cells": [
  {
   "cell_type": "markdown",
   "metadata": {},
   "source": [
    "## 数据读取-图像\n",
    "* cv2.IMREAD_COLOR:色彩图像\n",
    "* cv2.IMREAD_GARYSCALE:灰度图像"
   ]
  },
  {
   "cell_type": "code",
   "execution_count": 1,
   "metadata": {
    "ExecuteTime": {
     "end_time": "2020-06-29T14:59:53.764745Z",
     "start_time": "2020-06-29T14:59:53.498723Z"
    }
   },
   "outputs": [],
   "source": [
    "import cv2\n",
    "import matplotlib.pyplot as plt\n",
    "import numpy as np\n",
    "%matplotlib inline \n",
    "\n",
    "img = cv2.imread('imgs/cat1.jpg')"
   ]
  },
  {
   "cell_type": "code",
   "execution_count": 2,
   "metadata": {
    "ExecuteTime": {
     "end_time": "2020-06-29T14:50:38.300019Z",
     "start_time": "2020-06-29T14:50:38.268946Z"
    }
   },
   "outputs": [
    {
     "data": {
      "text/plain": [
       "array([[[ 83, 136, 163],\n",
       "        [ 83, 136, 163],\n",
       "        [ 83, 136, 163],\n",
       "        ...,\n",
       "        [ 15,  21,  20],\n",
       "        [ 14,  20,  19],\n",
       "        [ 12,  18,  17]],\n",
       "\n",
       "       [[ 83, 136, 163],\n",
       "        [ 83, 136, 163],\n",
       "        [ 83, 136, 163],\n",
       "        ...,\n",
       "        [ 15,  21,  20],\n",
       "        [ 14,  20,  19],\n",
       "        [ 13,  19,  18]],\n",
       "\n",
       "       [[ 84, 137, 164],\n",
       "        [ 84, 137, 164],\n",
       "        [ 84, 137, 164],\n",
       "        ...,\n",
       "        [ 15,  21,  20],\n",
       "        [ 14,  20,  19],\n",
       "        [ 13,  19,  18]],\n",
       "\n",
       "       ...,\n",
       "\n",
       "       [[ 66,  80,  78],\n",
       "        [ 74,  88,  86],\n",
       "        [ 78,  92,  91],\n",
       "        ...,\n",
       "        [ 52,  66,  72],\n",
       "        [ 54,  68,  74],\n",
       "        [ 47,  61,  67]],\n",
       "\n",
       "       [[ 63,  77,  75],\n",
       "        [ 72,  86,  84],\n",
       "        [ 81,  95,  94],\n",
       "        ...,\n",
       "        [ 49,  63,  69],\n",
       "        [ 53,  67,  73],\n",
       "        [ 39,  53,  59]],\n",
       "\n",
       "       [[ 71,  85,  83],\n",
       "        [ 79,  93,  91],\n",
       "        [ 84,  98,  97],\n",
       "        ...,\n",
       "        [ 41,  56,  59],\n",
       "        [ 52,  67,  70],\n",
       "        [ 35,  50,  53]]], dtype=uint8)"
      ]
     },
     "execution_count": 2,
     "metadata": {},
     "output_type": "execute_result"
    }
   ],
   "source": [
    "img"
   ]
  },
  {
   "cell_type": "code",
   "execution_count": null,
   "metadata": {
    "ExecuteTime": {
     "start_time": "2020-06-29T14:50:45.304Z"
    }
   },
   "outputs": [],
   "source": [
    "# 图像的显示，可以创建多个窗口\n",
    "cv2.imshow('image',img)\n",
    "# 0表示任意键终止\n",
    "cv2.waitKey(0)# 也可以指定关闭时间\n",
    "# 关闭所有窗口\n",
    "# cv2.destroyAllWindows()"
   ]
  },
  {
   "cell_type": "code",
   "execution_count": null,
   "metadata": {
    "ExecuteTime": {
     "start_time": "2020-06-29T14:51:00.256Z"
    }
   },
   "outputs": [],
   "source": [
    "# 创建一个窗口展示图像\n",
    "def cv_show(name,img):\n",
    "    cv2.imshow(name,img)\n",
    "    cv2.waitKey(0)\n",
    "    cv2.destroyAllWindows()"
   ]
  },
  {
   "cell_type": "code",
   "execution_count": 2,
   "metadata": {
    "ExecuteTime": {
     "end_time": "2020-06-29T15:00:34.821900Z",
     "start_time": "2020-06-29T15:00:34.814923Z"
    }
   },
   "outputs": [
    {
     "data": {
      "text/plain": [
       "(313, 500, 3)"
      ]
     },
     "execution_count": 2,
     "metadata": {},
     "output_type": "execute_result"
    }
   ],
   "source": [
    "# height,width,c = img.shape\n",
    "img.shape"
   ]
  },
  {
   "cell_type": "raw",
   "metadata": {
    "ExecuteTime": {
     "start_time": "2020-06-29T14:51:06.510Z"
    }
   },
   "source": [
    "# 读取灰度图\n",
    "img = cv2.imread('imgs/cat1.jpg',cv2.IMREAD_GRAYSCALE)\n",
    "img"
   ]
  },
  {
   "cell_type": "code",
   "execution_count": null,
   "metadata": {},
   "outputs": [],
   "source": []
  },
  {
   "cell_type": "code",
   "execution_count": null,
   "metadata": {},
   "outputs": [],
   "source": []
  },
  {
   "cell_type": "code",
   "execution_count": null,
   "metadata": {},
   "outputs": [],
   "source": []
  },
  {
   "cell_type": "code",
   "execution_count": null,
   "metadata": {},
   "outputs": [],
   "source": []
  },
  {
   "cell_type": "code",
   "execution_count": null,
   "metadata": {},
   "outputs": [],
   "source": []
  }
 ],
 "metadata": {
  "kernelspec": {
   "display_name": "Python 3",
   "language": "python",
   "name": "python3"
  },
  "language_info": {
   "codemirror_mode": {
    "name": "ipython",
    "version": 3
   },
   "file_extension": ".py",
   "mimetype": "text/x-python",
   "name": "python",
   "nbconvert_exporter": "python",
   "pygments_lexer": "ipython3",
   "version": "3.7.4"
  },
  "toc": {
   "base_numbering": 1,
   "nav_menu": {},
   "number_sections": true,
   "sideBar": true,
   "skip_h1_title": false,
   "title_cell": "Table of Contents",
   "title_sidebar": "Contents",
   "toc_cell": false,
   "toc_position": {},
   "toc_section_display": true,
   "toc_window_display": false
  }
 },
 "nbformat": 4,
 "nbformat_minor": 2
}
